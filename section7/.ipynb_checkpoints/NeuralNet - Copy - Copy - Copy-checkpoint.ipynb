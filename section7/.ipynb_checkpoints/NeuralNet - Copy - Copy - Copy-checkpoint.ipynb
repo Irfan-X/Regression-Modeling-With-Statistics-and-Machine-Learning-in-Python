{
 "cells": [
  {
   "cell_type": "code",
   "execution_count": null,
   "metadata": {
    "collapsed": true
   },
   "outputs": [],
   "source": []
  },
  {
   "cell_type": "markdown",
   "metadata": {},
   "source": [
    "# Deep Learning with H2O"
   ]
  },
  {
   "cell_type": "markdown",
   "metadata": {},
   "source": [
    "## By default we get 2 hidden layers, each with 200 neurons and 10 epochs"
   ]
  },
  {
   "cell_type": "code",
   "execution_count": 8,
   "metadata": {
    "collapsed": true
   },
   "outputs": [],
   "source": [
    "from h2o.estimators.deeplearning import H2ODeepLearningEstimator "
   ]
  },
  {
   "cell_type": "code",
   "execution_count": 19,
   "metadata": {
    "collapsed": true
   },
   "outputs": [],
   "source": [
    "model1= H2ODeepLearningEstimator()"
   ]
  },
  {
   "cell_type": "code",
   "execution_count": 13,
   "metadata": {},
   "outputs": [
    {
     "data": {
      "text/html": [
       "<table>\n",
       "<tr><th style=\"text-align: right;\">     RI</th><th style=\"text-align: right;\">   Na</th><th style=\"text-align: right;\">  Mg</th><th style=\"text-align: right;\">  Al</th><th style=\"text-align: right;\">   Si</th><th style=\"text-align: right;\">   K</th><th style=\"text-align: right;\">  Ca</th><th style=\"text-align: right;\">  Ba</th><th style=\"text-align: right;\">  Fe</th><th style=\"text-align: right;\">  Type</th></tr>\n",
       "<tr><td style=\"text-align: right;\">1.52101</td><td style=\"text-align: right;\">13.64</td><td style=\"text-align: right;\">4.49</td><td style=\"text-align: right;\">1.1 </td><td style=\"text-align: right;\">71.78</td><td style=\"text-align: right;\">0.06</td><td style=\"text-align: right;\">8.75</td><td style=\"text-align: right;\">   0</td><td style=\"text-align: right;\">   0</td><td style=\"text-align: right;\">     1</td></tr>\n",
       "<tr><td style=\"text-align: right;\">1.51761</td><td style=\"text-align: right;\">13.89</td><td style=\"text-align: right;\">3.6 </td><td style=\"text-align: right;\">1.36</td><td style=\"text-align: right;\">72.73</td><td style=\"text-align: right;\">0.48</td><td style=\"text-align: right;\">7.83</td><td style=\"text-align: right;\">   0</td><td style=\"text-align: right;\">   0</td><td style=\"text-align: right;\">     1</td></tr>\n",
       "<tr><td style=\"text-align: right;\">1.51618</td><td style=\"text-align: right;\">13.53</td><td style=\"text-align: right;\">3.55</td><td style=\"text-align: right;\">1.54</td><td style=\"text-align: right;\">72.99</td><td style=\"text-align: right;\">0.39</td><td style=\"text-align: right;\">7.78</td><td style=\"text-align: right;\">   0</td><td style=\"text-align: right;\">   0</td><td style=\"text-align: right;\">     1</td></tr>\n",
       "<tr><td style=\"text-align: right;\">1.51766</td><td style=\"text-align: right;\">13.21</td><td style=\"text-align: right;\">3.69</td><td style=\"text-align: right;\">1.29</td><td style=\"text-align: right;\">72.61</td><td style=\"text-align: right;\">0.57</td><td style=\"text-align: right;\">8.22</td><td style=\"text-align: right;\">   0</td><td style=\"text-align: right;\">   0</td><td style=\"text-align: right;\">     1</td></tr>\n",
       "<tr><td style=\"text-align: right;\">1.51742</td><td style=\"text-align: right;\">13.27</td><td style=\"text-align: right;\">3.62</td><td style=\"text-align: right;\">1.24</td><td style=\"text-align: right;\">73.08</td><td style=\"text-align: right;\">0.55</td><td style=\"text-align: right;\">8.07</td><td style=\"text-align: right;\">   0</td><td style=\"text-align: right;\">   0</td><td style=\"text-align: right;\">     1</td></tr>\n",
       "</table>"
      ]
     },
     "metadata": {},
     "output_type": "display_data"
    },
    {
     "data": {
      "text/plain": []
     },
     "execution_count": 13,
     "metadata": {},
     "output_type": "execute_result"
    }
   ],
   "source": [
    "g.head(5)"
   ]
  },
  {
   "cell_type": "code",
   "execution_count": 20,
   "metadata": {},
   "outputs": [
    {
     "name": "stdout",
     "output_type": "stream",
     "text": [
      "deeplearning Model Build progress: |██████████████████████████████████████| 100%\n"
     ]
    }
   ],
   "source": [
    "model1.train(x = list(set(g.columns) - set([\"Type\"])), y =\"Type\", training_frame = g)"
   ]
  },
  {
   "cell_type": "code",
   "execution_count": 21,
   "metadata": {},
   "outputs": [
    {
     "name": "stdout",
     "output_type": "stream",
     "text": [
      "Model Details\n",
      "=============\n",
      "H2ODeepLearningEstimator :  Deep Learning\n",
      "Model Key:  DeepLearning_model_python_1503168175656_2\n",
      "Status of Neuron Layers: predicting Type, regression, gaussian distribution, Quadratic loss, 42,401 weights/biases, 505.5 KB, 2,140 training samples, mini-batch size 1\n",
      "\n"
     ]
    },
    {
     "data": {
      "text/html": [
       "<div style=\"overflow:auto\"><table style=\"width:50%\"><tr><td><b></b></td>\n",
       "<td><b>layer</b></td>\n",
       "<td><b>units</b></td>\n",
       "<td><b>type</b></td>\n",
       "<td><b>dropout</b></td>\n",
       "<td><b>l1</b></td>\n",
       "<td><b>l2</b></td>\n",
       "<td><b>mean_rate</b></td>\n",
       "<td><b>rate_rms</b></td>\n",
       "<td><b>momentum</b></td>\n",
       "<td><b>mean_weight</b></td>\n",
       "<td><b>weight_rms</b></td>\n",
       "<td><b>mean_bias</b></td>\n",
       "<td><b>bias_rms</b></td></tr>\n",
       "<tr><td></td>\n",
       "<td>1</td>\n",
       "<td>9</td>\n",
       "<td>Input</td>\n",
       "<td>0.0</td>\n",
       "<td></td>\n",
       "<td></td>\n",
       "<td></td>\n",
       "<td></td>\n",
       "<td></td>\n",
       "<td></td>\n",
       "<td></td>\n",
       "<td></td>\n",
       "<td></td></tr>\n",
       "<tr><td></td>\n",
       "<td>2</td>\n",
       "<td>200</td>\n",
       "<td>Rectifier</td>\n",
       "<td>0.0</td>\n",
       "<td>0.0</td>\n",
       "<td>0.0</td>\n",
       "<td>0.0063637</td>\n",
       "<td>0.0037236</td>\n",
       "<td>0.0</td>\n",
       "<td>0.0008947</td>\n",
       "<td>0.0986049</td>\n",
       "<td>0.4892295</td>\n",
       "<td>0.0117695</td></tr>\n",
       "<tr><td></td>\n",
       "<td>3</td>\n",
       "<td>200</td>\n",
       "<td>Rectifier</td>\n",
       "<td>0.0</td>\n",
       "<td>0.0</td>\n",
       "<td>0.0</td>\n",
       "<td>0.0472299</td>\n",
       "<td>0.1078327</td>\n",
       "<td>0.0</td>\n",
       "<td>-0.0063426</td>\n",
       "<td>0.0699293</td>\n",
       "<td>0.9879500</td>\n",
       "<td>0.0105623</td></tr>\n",
       "<tr><td></td>\n",
       "<td>4</td>\n",
       "<td>1</td>\n",
       "<td>Linear</td>\n",
       "<td></td>\n",
       "<td>0.0</td>\n",
       "<td>0.0</td>\n",
       "<td>0.0004898</td>\n",
       "<td>0.0005255</td>\n",
       "<td>0.0</td>\n",
       "<td>0.0029021</td>\n",
       "<td>0.0745387</td>\n",
       "<td>0.0025474</td>\n",
       "<td>0.0000000</td></tr></table></div>"
      ],
      "text/plain": [
       "    layer    units    type       dropout    l1    l2    mean_rate          rate_rms           momentum    mean_weight        weight_rms       mean_bias         bias_rms\n",
       "--  -------  -------  ---------  ---------  ----  ----  -----------------  -----------------  ----------  -----------------  ---------------  ----------------  ------------------\n",
       "    1        9        Input      0.0\n",
       "    2        200      Rectifier  0.0        0.0   0.0   0.00636374934428   0.00372361019254   0.0         0.000894728546011  0.0986049473286  0.489229456413    0.0117695406079\n",
       "    3        200      Rectifier  0.0        0.0   0.0   0.0472298831193    0.107832670212     0.0         -0.00634262085242  0.0699292719364  0.987950042466    0.0105622522533\n",
       "    4        1        Linear                0.0   0.0   0.000489783538724  0.000525537878275  0.0         0.00290213555994   0.0745387375355  0.00254741931675  1.09712811257e-154"
      ]
     },
     "metadata": {},
     "output_type": "display_data"
    },
    {
     "name": "stdout",
     "output_type": "stream",
     "text": [
      "\n",
      "\n",
      "ModelMetricsRegression: deeplearning\n",
      "** Reported on train data. **\n",
      "\n",
      "MSE: 0.928851856084\n",
      "RMSE: 0.963769607367\n",
      "MAE: 0.719299214971\n",
      "RMSLE: 0.277385050283\n",
      "Mean Residual Deviance: 0.928851856084\n",
      "Scoring History: \n"
     ]
    },
    {
     "data": {
      "text/html": [
       "<div style=\"overflow:auto\"><table style=\"width:50%\"><tr><td><b></b></td>\n",
       "<td><b>timestamp</b></td>\n",
       "<td><b>duration</b></td>\n",
       "<td><b>training_speed</b></td>\n",
       "<td><b>epochs</b></td>\n",
       "<td><b>iterations</b></td>\n",
       "<td><b>samples</b></td>\n",
       "<td><b>training_rmse</b></td>\n",
       "<td><b>training_deviance</b></td>\n",
       "<td><b>training_mae</b></td></tr>\n",
       "<tr><td></td>\n",
       "<td>2017-08-19 20:47:56</td>\n",
       "<td> 0.000 sec</td>\n",
       "<td>None</td>\n",
       "<td>0.0</td>\n",
       "<td>0</td>\n",
       "<td>0.0</td>\n",
       "<td>nan</td>\n",
       "<td>nan</td>\n",
       "<td>nan</td></tr>\n",
       "<tr><td></td>\n",
       "<td>2017-08-19 20:47:56</td>\n",
       "<td> 0.068 sec</td>\n",
       "<td>6687 obs/sec</td>\n",
       "<td>1.0</td>\n",
       "<td>1</td>\n",
       "<td>214.0</td>\n",
       "<td>1.1953620</td>\n",
       "<td>1.4288902</td>\n",
       "<td>0.8027101</td></tr>\n",
       "<tr><td></td>\n",
       "<td>2017-08-19 20:47:56</td>\n",
       "<td> 0.352 sec</td>\n",
       "<td>6881 obs/sec</td>\n",
       "<td>10.0</td>\n",
       "<td>10</td>\n",
       "<td>2140.0</td>\n",
       "<td>0.9637696</td>\n",
       "<td>0.9288519</td>\n",
       "<td>0.7192992</td></tr></table></div>"
      ],
      "text/plain": [
       "    timestamp            duration    training_speed    epochs    iterations    samples    training_rmse    training_deviance    training_mae\n",
       "--  -------------------  ----------  ----------------  --------  ------------  ---------  ---------------  -------------------  --------------\n",
       "    2017-08-19 20:47:56  0.000 sec                     0         0             0          nan              nan                  nan\n",
       "    2017-08-19 20:47:56  0.068 sec   6687 obs/sec      1         1             214        1.19536          1.42889              0.80271\n",
       "    2017-08-19 20:47:56  0.352 sec   6881 obs/sec      10        10            2140       0.96377          0.928852             0.719299"
      ]
     },
     "metadata": {},
     "output_type": "display_data"
    }
   ],
   "source": [
    "model1.show()"
   ]
  },
  {
   "cell_type": "code",
   "execution_count": 25,
   "metadata": {},
   "outputs": [
    {
     "data": {
      "text/plain": [
       "0.9288518560842474"
      ]
     },
     "execution_count": 25,
     "metadata": {},
     "output_type": "execute_result"
    }
   ],
   "source": [
    "model1.mse()"
   ]
  },
  {
   "cell_type": "code",
   "execution_count": null,
   "metadata": {
    "collapsed": true
   },
   "outputs": [],
   "source": []
  }
 ],
 "metadata": {
  "kernelspec": {
   "display_name": "Python 2",
   "language": "python",
   "name": "python2"
  },
  "language_info": {
   "codemirror_mode": {
    "name": "ipython",
    "version": 2
   },
   "file_extension": ".py",
   "mimetype": "text/x-python",
   "name": "python",
   "nbconvert_exporter": "python",
   "pygments_lexer": "ipython2",
   "version": "2.7.13"
  }
 },
 "nbformat": 4,
 "nbformat_minor": 2
}
