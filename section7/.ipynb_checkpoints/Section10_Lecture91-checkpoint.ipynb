{
 "cells": [
  {
   "cell_type": "code",
   "execution_count": 1,
   "metadata": {
    "collapsed": true
   },
   "outputs": [],
   "source": [
    "%matplotlib inline\n",
    "\n",
    "import matplotlib\n",
    "import numpy as np\n",
    "import pandas as pd\n",
    "import matplotlib.pyplot as plt"
   ]
  },
  {
   "cell_type": "code",
   "execution_count": 2,
   "metadata": {
    "collapsed": true
   },
   "outputs": [],
   "source": [
    "from sklearn.decomposition import PCA\n",
    "\n",
    "from sklearn.preprocessing import scale\n",
    "import seaborn as sns"
   ]
  },
  {
   "cell_type": "code",
   "execution_count": 3,
   "metadata": {
    "collapsed": true
   },
   "outputs": [],
   "source": [
    "iris = sns.load_dataset(\"iris\")"
   ]
  },
  {
   "cell_type": "code",
   "execution_count": 4,
   "metadata": {},
   "outputs": [
    {
     "data": {
      "text/html": [
       "<div>\n",
       "<style>\n",
       "    .dataframe thead tr:only-child th {\n",
       "        text-align: right;\n",
       "    }\n",
       "\n",
       "    .dataframe thead th {\n",
       "        text-align: left;\n",
       "    }\n",
       "\n",
       "    .dataframe tbody tr th {\n",
       "        vertical-align: top;\n",
       "    }\n",
       "</style>\n",
       "<table border=\"1\" class=\"dataframe\">\n",
       "  <thead>\n",
       "    <tr style=\"text-align: right;\">\n",
       "      <th></th>\n",
       "      <th>sepal_length</th>\n",
       "      <th>sepal_width</th>\n",
       "      <th>petal_length</th>\n",
       "      <th>petal_width</th>\n",
       "      <th>species</th>\n",
       "    </tr>\n",
       "  </thead>\n",
       "  <tbody>\n",
       "    <tr>\n",
       "      <th>0</th>\n",
       "      <td>5.1</td>\n",
       "      <td>3.5</td>\n",
       "      <td>1.4</td>\n",
       "      <td>0.2</td>\n",
       "      <td>setosa</td>\n",
       "    </tr>\n",
       "    <tr>\n",
       "      <th>1</th>\n",
       "      <td>4.9</td>\n",
       "      <td>3.0</td>\n",
       "      <td>1.4</td>\n",
       "      <td>0.2</td>\n",
       "      <td>setosa</td>\n",
       "    </tr>\n",
       "    <tr>\n",
       "      <th>2</th>\n",
       "      <td>4.7</td>\n",
       "      <td>3.2</td>\n",
       "      <td>1.3</td>\n",
       "      <td>0.2</td>\n",
       "      <td>setosa</td>\n",
       "    </tr>\n",
       "    <tr>\n",
       "      <th>3</th>\n",
       "      <td>4.6</td>\n",
       "      <td>3.1</td>\n",
       "      <td>1.5</td>\n",
       "      <td>0.2</td>\n",
       "      <td>setosa</td>\n",
       "    </tr>\n",
       "  </tbody>\n",
       "</table>\n",
       "</div>"
      ],
      "text/plain": [
       "   sepal_length  sepal_width  petal_length  petal_width species\n",
       "0           5.1          3.5           1.4          0.2  setosa\n",
       "1           4.9          3.0           1.4          0.2  setosa\n",
       "2           4.7          3.2           1.3          0.2  setosa\n",
       "3           4.6          3.1           1.5          0.2  setosa"
      ]
     },
     "execution_count": 4,
     "metadata": {},
     "output_type": "execute_result"
    }
   ],
   "source": [
    "iris.head(4)"
   ]
  },
  {
   "cell_type": "code",
   "execution_count": 5,
   "metadata": {
    "collapsed": true
   },
   "outputs": [],
   "source": [
    "num=iris[[\"sepal_length\",\"sepal_width\",\"petal_length\",\"petal_width\"]]"
   ]
  },
  {
   "cell_type": "code",
   "execution_count": 6,
   "metadata": {
    "collapsed": true
   },
   "outputs": [],
   "source": [
    "#convert numerical values to numpy arrays\n",
    "X=num.values"
   ]
  },
  {
   "cell_type": "code",
   "execution_count": 7,
   "metadata": {},
   "outputs": [
    {
     "data": {
      "text/plain": [
       "array([[ 5.1,  3.5,  1.4,  0.2],\n",
       "       [ 4.9,  3. ,  1.4,  0.2],\n",
       "       [ 4.7,  3.2,  1.3,  0.2],\n",
       "       [ 4.6,  3.1,  1.5,  0.2],\n",
       "       [ 5. ,  3.6,  1.4,  0.2],\n",
       "       [ 5.4,  3.9,  1.7,  0.4],\n",
       "       [ 4.6,  3.4,  1.4,  0.3],\n",
       "       [ 5. ,  3.4,  1.5,  0.2],\n",
       "       [ 4.4,  2.9,  1.4,  0.2],\n",
       "       [ 4.9,  3.1,  1.5,  0.1],\n",
       "       [ 5.4,  3.7,  1.5,  0.2],\n",
       "       [ 4.8,  3.4,  1.6,  0.2],\n",
       "       [ 4.8,  3. ,  1.4,  0.1],\n",
       "       [ 4.3,  3. ,  1.1,  0.1],\n",
       "       [ 5.8,  4. ,  1.2,  0.2],\n",
       "       [ 5.7,  4.4,  1.5,  0.4],\n",
       "       [ 5.4,  3.9,  1.3,  0.4],\n",
       "       [ 5.1,  3.5,  1.4,  0.3],\n",
       "       [ 5.7,  3.8,  1.7,  0.3],\n",
       "       [ 5.1,  3.8,  1.5,  0.3],\n",
       "       [ 5.4,  3.4,  1.7,  0.2],\n",
       "       [ 5.1,  3.7,  1.5,  0.4],\n",
       "       [ 4.6,  3.6,  1. ,  0.2],\n",
       "       [ 5.1,  3.3,  1.7,  0.5],\n",
       "       [ 4.8,  3.4,  1.9,  0.2],\n",
       "       [ 5. ,  3. ,  1.6,  0.2],\n",
       "       [ 5. ,  3.4,  1.6,  0.4],\n",
       "       [ 5.2,  3.5,  1.5,  0.2],\n",
       "       [ 5.2,  3.4,  1.4,  0.2],\n",
       "       [ 4.7,  3.2,  1.6,  0.2],\n",
       "       [ 4.8,  3.1,  1.6,  0.2],\n",
       "       [ 5.4,  3.4,  1.5,  0.4],\n",
       "       [ 5.2,  4.1,  1.5,  0.1],\n",
       "       [ 5.5,  4.2,  1.4,  0.2],\n",
       "       [ 4.9,  3.1,  1.5,  0.2],\n",
       "       [ 5. ,  3.2,  1.2,  0.2],\n",
       "       [ 5.5,  3.5,  1.3,  0.2],\n",
       "       [ 4.9,  3.6,  1.4,  0.1],\n",
       "       [ 4.4,  3. ,  1.3,  0.2],\n",
       "       [ 5.1,  3.4,  1.5,  0.2],\n",
       "       [ 5. ,  3.5,  1.3,  0.3],\n",
       "       [ 4.5,  2.3,  1.3,  0.3],\n",
       "       [ 4.4,  3.2,  1.3,  0.2],\n",
       "       [ 5. ,  3.5,  1.6,  0.6],\n",
       "       [ 5.1,  3.8,  1.9,  0.4],\n",
       "       [ 4.8,  3. ,  1.4,  0.3],\n",
       "       [ 5.1,  3.8,  1.6,  0.2],\n",
       "       [ 4.6,  3.2,  1.4,  0.2],\n",
       "       [ 5.3,  3.7,  1.5,  0.2],\n",
       "       [ 5. ,  3.3,  1.4,  0.2],\n",
       "       [ 7. ,  3.2,  4.7,  1.4],\n",
       "       [ 6.4,  3.2,  4.5,  1.5],\n",
       "       [ 6.9,  3.1,  4.9,  1.5],\n",
       "       [ 5.5,  2.3,  4. ,  1.3],\n",
       "       [ 6.5,  2.8,  4.6,  1.5],\n",
       "       [ 5.7,  2.8,  4.5,  1.3],\n",
       "       [ 6.3,  3.3,  4.7,  1.6],\n",
       "       [ 4.9,  2.4,  3.3,  1. ],\n",
       "       [ 6.6,  2.9,  4.6,  1.3],\n",
       "       [ 5.2,  2.7,  3.9,  1.4],\n",
       "       [ 5. ,  2. ,  3.5,  1. ],\n",
       "       [ 5.9,  3. ,  4.2,  1.5],\n",
       "       [ 6. ,  2.2,  4. ,  1. ],\n",
       "       [ 6.1,  2.9,  4.7,  1.4],\n",
       "       [ 5.6,  2.9,  3.6,  1.3],\n",
       "       [ 6.7,  3.1,  4.4,  1.4],\n",
       "       [ 5.6,  3. ,  4.5,  1.5],\n",
       "       [ 5.8,  2.7,  4.1,  1. ],\n",
       "       [ 6.2,  2.2,  4.5,  1.5],\n",
       "       [ 5.6,  2.5,  3.9,  1.1],\n",
       "       [ 5.9,  3.2,  4.8,  1.8],\n",
       "       [ 6.1,  2.8,  4. ,  1.3],\n",
       "       [ 6.3,  2.5,  4.9,  1.5],\n",
       "       [ 6.1,  2.8,  4.7,  1.2],\n",
       "       [ 6.4,  2.9,  4.3,  1.3],\n",
       "       [ 6.6,  3. ,  4.4,  1.4],\n",
       "       [ 6.8,  2.8,  4.8,  1.4],\n",
       "       [ 6.7,  3. ,  5. ,  1.7],\n",
       "       [ 6. ,  2.9,  4.5,  1.5],\n",
       "       [ 5.7,  2.6,  3.5,  1. ],\n",
       "       [ 5.5,  2.4,  3.8,  1.1],\n",
       "       [ 5.5,  2.4,  3.7,  1. ],\n",
       "       [ 5.8,  2.7,  3.9,  1.2],\n",
       "       [ 6. ,  2.7,  5.1,  1.6],\n",
       "       [ 5.4,  3. ,  4.5,  1.5],\n",
       "       [ 6. ,  3.4,  4.5,  1.6],\n",
       "       [ 6.7,  3.1,  4.7,  1.5],\n",
       "       [ 6.3,  2.3,  4.4,  1.3],\n",
       "       [ 5.6,  3. ,  4.1,  1.3],\n",
       "       [ 5.5,  2.5,  4. ,  1.3],\n",
       "       [ 5.5,  2.6,  4.4,  1.2],\n",
       "       [ 6.1,  3. ,  4.6,  1.4],\n",
       "       [ 5.8,  2.6,  4. ,  1.2],\n",
       "       [ 5. ,  2.3,  3.3,  1. ],\n",
       "       [ 5.6,  2.7,  4.2,  1.3],\n",
       "       [ 5.7,  3. ,  4.2,  1.2],\n",
       "       [ 5.7,  2.9,  4.2,  1.3],\n",
       "       [ 6.2,  2.9,  4.3,  1.3],\n",
       "       [ 5.1,  2.5,  3. ,  1.1],\n",
       "       [ 5.7,  2.8,  4.1,  1.3],\n",
       "       [ 6.3,  3.3,  6. ,  2.5],\n",
       "       [ 5.8,  2.7,  5.1,  1.9],\n",
       "       [ 7.1,  3. ,  5.9,  2.1],\n",
       "       [ 6.3,  2.9,  5.6,  1.8],\n",
       "       [ 6.5,  3. ,  5.8,  2.2],\n",
       "       [ 7.6,  3. ,  6.6,  2.1],\n",
       "       [ 4.9,  2.5,  4.5,  1.7],\n",
       "       [ 7.3,  2.9,  6.3,  1.8],\n",
       "       [ 6.7,  2.5,  5.8,  1.8],\n",
       "       [ 7.2,  3.6,  6.1,  2.5],\n",
       "       [ 6.5,  3.2,  5.1,  2. ],\n",
       "       [ 6.4,  2.7,  5.3,  1.9],\n",
       "       [ 6.8,  3. ,  5.5,  2.1],\n",
       "       [ 5.7,  2.5,  5. ,  2. ],\n",
       "       [ 5.8,  2.8,  5.1,  2.4],\n",
       "       [ 6.4,  3.2,  5.3,  2.3],\n",
       "       [ 6.5,  3. ,  5.5,  1.8],\n",
       "       [ 7.7,  3.8,  6.7,  2.2],\n",
       "       [ 7.7,  2.6,  6.9,  2.3],\n",
       "       [ 6. ,  2.2,  5. ,  1.5],\n",
       "       [ 6.9,  3.2,  5.7,  2.3],\n",
       "       [ 5.6,  2.8,  4.9,  2. ],\n",
       "       [ 7.7,  2.8,  6.7,  2. ],\n",
       "       [ 6.3,  2.7,  4.9,  1.8],\n",
       "       [ 6.7,  3.3,  5.7,  2.1],\n",
       "       [ 7.2,  3.2,  6. ,  1.8],\n",
       "       [ 6.2,  2.8,  4.8,  1.8],\n",
       "       [ 6.1,  3. ,  4.9,  1.8],\n",
       "       [ 6.4,  2.8,  5.6,  2.1],\n",
       "       [ 7.2,  3. ,  5.8,  1.6],\n",
       "       [ 7.4,  2.8,  6.1,  1.9],\n",
       "       [ 7.9,  3.8,  6.4,  2. ],\n",
       "       [ 6.4,  2.8,  5.6,  2.2],\n",
       "       [ 6.3,  2.8,  5.1,  1.5],\n",
       "       [ 6.1,  2.6,  5.6,  1.4],\n",
       "       [ 7.7,  3. ,  6.1,  2.3],\n",
       "       [ 6.3,  3.4,  5.6,  2.4],\n",
       "       [ 6.4,  3.1,  5.5,  1.8],\n",
       "       [ 6. ,  3. ,  4.8,  1.8],\n",
       "       [ 6.9,  3.1,  5.4,  2.1],\n",
       "       [ 6.7,  3.1,  5.6,  2.4],\n",
       "       [ 6.9,  3.1,  5.1,  2.3],\n",
       "       [ 5.8,  2.7,  5.1,  1.9],\n",
       "       [ 6.8,  3.2,  5.9,  2.3],\n",
       "       [ 6.7,  3.3,  5.7,  2.5],\n",
       "       [ 6.7,  3. ,  5.2,  2.3],\n",
       "       [ 6.3,  2.5,  5. ,  1.9],\n",
       "       [ 6.5,  3. ,  5.2,  2. ],\n",
       "       [ 6.2,  3.4,  5.4,  2.3],\n",
       "       [ 5.9,  3. ,  5.1,  1.8]])"
      ]
     },
     "execution_count": 7,
     "metadata": {},
     "output_type": "execute_result"
    }
   ],
   "source": [
    "X"
   ]
  },
  {
   "cell_type": "code",
   "execution_count": 8,
   "metadata": {
    "collapsed": true
   },
   "outputs": [],
   "source": [
    "#Scaling the values\n",
    "X = scale(X)\n"
   ]
  },
  {
   "cell_type": "code",
   "execution_count": 9,
   "metadata": {},
   "outputs": [
    {
     "data": {
      "text/plain": [
       "array([[ -9.00681170e-01,   1.01900435e+00,  -1.34022653e+00,\n",
       "         -1.31544430e+00],\n",
       "       [ -1.14301691e+00,  -1.31979479e-01,  -1.34022653e+00,\n",
       "         -1.31544430e+00],\n",
       "       [ -1.38535265e+00,   3.28414053e-01,  -1.39706395e+00,\n",
       "         -1.31544430e+00],\n",
       "       [ -1.50652052e+00,   9.82172869e-02,  -1.28338910e+00,\n",
       "         -1.31544430e+00],\n",
       "       [ -1.02184904e+00,   1.24920112e+00,  -1.34022653e+00,\n",
       "         -1.31544430e+00],\n",
       "       [ -5.37177559e-01,   1.93979142e+00,  -1.16971425e+00,\n",
       "         -1.05217993e+00],\n",
       "       [ -1.50652052e+00,   7.88807586e-01,  -1.34022653e+00,\n",
       "         -1.18381211e+00],\n",
       "       [ -1.02184904e+00,   7.88807586e-01,  -1.28338910e+00,\n",
       "         -1.31544430e+00],\n",
       "       [ -1.74885626e+00,  -3.62176246e-01,  -1.34022653e+00,\n",
       "         -1.31544430e+00],\n",
       "       [ -1.14301691e+00,   9.82172869e-02,  -1.28338910e+00,\n",
       "         -1.44707648e+00],\n",
       "       [ -5.37177559e-01,   1.47939788e+00,  -1.28338910e+00,\n",
       "         -1.31544430e+00],\n",
       "       [ -1.26418478e+00,   7.88807586e-01,  -1.22655167e+00,\n",
       "         -1.31544430e+00],\n",
       "       [ -1.26418478e+00,  -1.31979479e-01,  -1.34022653e+00,\n",
       "         -1.44707648e+00],\n",
       "       [ -1.87002413e+00,  -1.31979479e-01,  -1.51073881e+00,\n",
       "         -1.44707648e+00],\n",
       "       [ -5.25060772e-02,   2.16998818e+00,  -1.45390138e+00,\n",
       "         -1.31544430e+00],\n",
       "       [ -1.73673948e-01,   3.09077525e+00,  -1.28338910e+00,\n",
       "         -1.05217993e+00],\n",
       "       [ -5.37177559e-01,   1.93979142e+00,  -1.39706395e+00,\n",
       "         -1.05217993e+00],\n",
       "       [ -9.00681170e-01,   1.01900435e+00,  -1.34022653e+00,\n",
       "         -1.18381211e+00],\n",
       "       [ -1.73673948e-01,   1.70959465e+00,  -1.16971425e+00,\n",
       "         -1.18381211e+00],\n",
       "       [ -9.00681170e-01,   1.70959465e+00,  -1.28338910e+00,\n",
       "         -1.18381211e+00],\n",
       "       [ -5.37177559e-01,   7.88807586e-01,  -1.16971425e+00,\n",
       "         -1.31544430e+00],\n",
       "       [ -9.00681170e-01,   1.47939788e+00,  -1.28338910e+00,\n",
       "         -1.05217993e+00],\n",
       "       [ -1.50652052e+00,   1.24920112e+00,  -1.56757623e+00,\n",
       "         -1.31544430e+00],\n",
       "       [ -9.00681170e-01,   5.58610819e-01,  -1.16971425e+00,\n",
       "         -9.20547742e-01],\n",
       "       [ -1.26418478e+00,   7.88807586e-01,  -1.05603939e+00,\n",
       "         -1.31544430e+00],\n",
       "       [ -1.02184904e+00,  -1.31979479e-01,  -1.22655167e+00,\n",
       "         -1.31544430e+00],\n",
       "       [ -1.02184904e+00,   7.88807586e-01,  -1.22655167e+00,\n",
       "         -1.05217993e+00],\n",
       "       [ -7.79513300e-01,   1.01900435e+00,  -1.28338910e+00,\n",
       "         -1.31544430e+00],\n",
       "       [ -7.79513300e-01,   7.88807586e-01,  -1.34022653e+00,\n",
       "         -1.31544430e+00],\n",
       "       [ -1.38535265e+00,   3.28414053e-01,  -1.22655167e+00,\n",
       "         -1.31544430e+00],\n",
       "       [ -1.26418478e+00,   9.82172869e-02,  -1.22655167e+00,\n",
       "         -1.31544430e+00],\n",
       "       [ -5.37177559e-01,   7.88807586e-01,  -1.28338910e+00,\n",
       "         -1.05217993e+00],\n",
       "       [ -7.79513300e-01,   2.40018495e+00,  -1.28338910e+00,\n",
       "         -1.44707648e+00],\n",
       "       [ -4.16009689e-01,   2.63038172e+00,  -1.34022653e+00,\n",
       "         -1.31544430e+00],\n",
       "       [ -1.14301691e+00,   9.82172869e-02,  -1.28338910e+00,\n",
       "         -1.31544430e+00],\n",
       "       [ -1.02184904e+00,   3.28414053e-01,  -1.45390138e+00,\n",
       "         -1.31544430e+00],\n",
       "       [ -4.16009689e-01,   1.01900435e+00,  -1.39706395e+00,\n",
       "         -1.31544430e+00],\n",
       "       [ -1.14301691e+00,   1.24920112e+00,  -1.34022653e+00,\n",
       "         -1.44707648e+00],\n",
       "       [ -1.74885626e+00,  -1.31979479e-01,  -1.39706395e+00,\n",
       "         -1.31544430e+00],\n",
       "       [ -9.00681170e-01,   7.88807586e-01,  -1.28338910e+00,\n",
       "         -1.31544430e+00],\n",
       "       [ -1.02184904e+00,   1.01900435e+00,  -1.39706395e+00,\n",
       "         -1.18381211e+00],\n",
       "       [ -1.62768839e+00,  -1.74335684e+00,  -1.39706395e+00,\n",
       "         -1.18381211e+00],\n",
       "       [ -1.74885626e+00,   3.28414053e-01,  -1.39706395e+00,\n",
       "         -1.31544430e+00],\n",
       "       [ -1.02184904e+00,   1.01900435e+00,  -1.22655167e+00,\n",
       "         -7.88915558e-01],\n",
       "       [ -9.00681170e-01,   1.70959465e+00,  -1.05603939e+00,\n",
       "         -1.05217993e+00],\n",
       "       [ -1.26418478e+00,  -1.31979479e-01,  -1.34022653e+00,\n",
       "         -1.18381211e+00],\n",
       "       [ -9.00681170e-01,   1.70959465e+00,  -1.22655167e+00,\n",
       "         -1.31544430e+00],\n",
       "       [ -1.50652052e+00,   3.28414053e-01,  -1.34022653e+00,\n",
       "         -1.31544430e+00],\n",
       "       [ -6.58345429e-01,   1.47939788e+00,  -1.28338910e+00,\n",
       "         -1.31544430e+00],\n",
       "       [ -1.02184904e+00,   5.58610819e-01,  -1.34022653e+00,\n",
       "         -1.31544430e+00],\n",
       "       [  1.40150837e+00,   3.28414053e-01,   5.35408562e-01,\n",
       "          2.64141916e-01],\n",
       "       [  6.74501145e-01,   3.28414053e-01,   4.21733708e-01,\n",
       "          3.95774101e-01],\n",
       "       [  1.28034050e+00,   9.82172869e-02,   6.49083415e-01,\n",
       "          3.95774101e-01],\n",
       "       [ -4.16009689e-01,  -1.74335684e+00,   1.37546573e-01,\n",
       "          1.32509732e-01],\n",
       "       [  7.95669016e-01,  -5.92373012e-01,   4.78571135e-01,\n",
       "          3.95774101e-01],\n",
       "       [ -1.73673948e-01,  -5.92373012e-01,   4.21733708e-01,\n",
       "          1.32509732e-01],\n",
       "       [  5.53333275e-01,   5.58610819e-01,   5.35408562e-01,\n",
       "          5.27406285e-01],\n",
       "       [ -1.14301691e+00,  -1.51316008e+00,  -2.60315415e-01,\n",
       "         -2.62386821e-01],\n",
       "       [  9.16836886e-01,  -3.62176246e-01,   4.78571135e-01,\n",
       "          1.32509732e-01],\n",
       "       [ -7.79513300e-01,  -8.22569778e-01,   8.07091462e-02,\n",
       "          2.64141916e-01],\n",
       "       [ -1.02184904e+00,  -2.43394714e+00,  -1.46640561e-01,\n",
       "         -2.62386821e-01],\n",
       "       [  6.86617933e-02,  -1.31979479e-01,   2.51221427e-01,\n",
       "          3.95774101e-01],\n",
       "       [  1.89829664e-01,  -1.97355361e+00,   1.37546573e-01,\n",
       "         -2.62386821e-01],\n",
       "       [  3.10997534e-01,  -3.62176246e-01,   5.35408562e-01,\n",
       "          2.64141916e-01],\n",
       "       [ -2.94841818e-01,  -3.62176246e-01,  -8.98031345e-02,\n",
       "          1.32509732e-01],\n",
       "       [  1.03800476e+00,   9.82172869e-02,   3.64896281e-01,\n",
       "          2.64141916e-01],\n",
       "       [ -2.94841818e-01,  -1.31979479e-01,   4.21733708e-01,\n",
       "          3.95774101e-01],\n",
       "       [ -5.25060772e-02,  -8.22569778e-01,   1.94384000e-01,\n",
       "         -2.62386821e-01],\n",
       "       [  4.32165405e-01,  -1.97355361e+00,   4.21733708e-01,\n",
       "          3.95774101e-01],\n",
       "       [ -2.94841818e-01,  -1.28296331e+00,   8.07091462e-02,\n",
       "         -1.30754636e-01],\n",
       "       [  6.86617933e-02,   3.28414053e-01,   5.92245988e-01,\n",
       "          7.90670654e-01],\n",
       "       [  3.10997534e-01,  -5.92373012e-01,   1.37546573e-01,\n",
       "          1.32509732e-01],\n",
       "       [  5.53333275e-01,  -1.28296331e+00,   6.49083415e-01,\n",
       "          3.95774101e-01],\n",
       "       [  3.10997534e-01,  -5.92373012e-01,   5.35408562e-01,\n",
       "          8.77547895e-04],\n",
       "       [  6.74501145e-01,  -3.62176246e-01,   3.08058854e-01,\n",
       "          1.32509732e-01],\n",
       "       [  9.16836886e-01,  -1.31979479e-01,   3.64896281e-01,\n",
       "          2.64141916e-01],\n",
       "       [  1.15917263e+00,  -5.92373012e-01,   5.92245988e-01,\n",
       "          2.64141916e-01],\n",
       "       [  1.03800476e+00,  -1.31979479e-01,   7.05920842e-01,\n",
       "          6.59038469e-01],\n",
       "       [  1.89829664e-01,  -3.62176246e-01,   4.21733708e-01,\n",
       "          3.95774101e-01],\n",
       "       [ -1.73673948e-01,  -1.05276654e+00,  -1.46640561e-01,\n",
       "         -2.62386821e-01],\n",
       "       [ -4.16009689e-01,  -1.51316008e+00,   2.38717193e-02,\n",
       "         -1.30754636e-01],\n",
       "       [ -4.16009689e-01,  -1.51316008e+00,  -3.29657076e-02,\n",
       "         -2.62386821e-01],\n",
       "       [ -5.25060772e-02,  -8.22569778e-01,   8.07091462e-02,\n",
       "          8.77547895e-04],\n",
       "       [  1.89829664e-01,  -8.22569778e-01,   7.62758269e-01,\n",
       "          5.27406285e-01],\n",
       "       [ -5.37177559e-01,  -1.31979479e-01,   4.21733708e-01,\n",
       "          3.95774101e-01],\n",
       "       [  1.89829664e-01,   7.88807586e-01,   4.21733708e-01,\n",
       "          5.27406285e-01],\n",
       "       [  1.03800476e+00,   9.82172869e-02,   5.35408562e-01,\n",
       "          3.95774101e-01],\n",
       "       [  5.53333275e-01,  -1.74335684e+00,   3.64896281e-01,\n",
       "          1.32509732e-01],\n",
       "       [ -2.94841818e-01,  -1.31979479e-01,   1.94384000e-01,\n",
       "          1.32509732e-01],\n",
       "       [ -4.16009689e-01,  -1.28296331e+00,   1.37546573e-01,\n",
       "          1.32509732e-01],\n",
       "       [ -4.16009689e-01,  -1.05276654e+00,   3.64896281e-01,\n",
       "          8.77547895e-04],\n",
       "       [  3.10997534e-01,  -1.31979479e-01,   4.78571135e-01,\n",
       "          2.64141916e-01],\n",
       "       [ -5.25060772e-02,  -1.05276654e+00,   1.37546573e-01,\n",
       "          8.77547895e-04],\n",
       "       [ -1.02184904e+00,  -1.74335684e+00,  -2.60315415e-01,\n",
       "         -2.62386821e-01],\n",
       "       [ -2.94841818e-01,  -8.22569778e-01,   2.51221427e-01,\n",
       "          1.32509732e-01],\n",
       "       [ -1.73673948e-01,  -1.31979479e-01,   2.51221427e-01,\n",
       "          8.77547895e-04],\n",
       "       [ -1.73673948e-01,  -3.62176246e-01,   2.51221427e-01,\n",
       "          1.32509732e-01],\n",
       "       [  4.32165405e-01,  -3.62176246e-01,   3.08058854e-01,\n",
       "          1.32509732e-01],\n",
       "       [ -9.00681170e-01,  -1.28296331e+00,  -4.30827696e-01,\n",
       "         -1.30754636e-01],\n",
       "       [ -1.73673948e-01,  -5.92373012e-01,   1.94384000e-01,\n",
       "          1.32509732e-01],\n",
       "       [  5.53333275e-01,   5.58610819e-01,   1.27429511e+00,\n",
       "          1.71209594e+00],\n",
       "       [ -5.25060772e-02,  -8.22569778e-01,   7.62758269e-01,\n",
       "          9.22302838e-01],\n",
       "       [  1.52267624e+00,  -1.31979479e-01,   1.21745768e+00,\n",
       "          1.18556721e+00],\n",
       "       [  5.53333275e-01,  -3.62176246e-01,   1.04694540e+00,\n",
       "          7.90670654e-01],\n",
       "       [  7.95669016e-01,  -1.31979479e-01,   1.16062026e+00,\n",
       "          1.31719939e+00],\n",
       "       [  2.12851559e+00,  -1.31979479e-01,   1.61531967e+00,\n",
       "          1.18556721e+00],\n",
       "       [ -1.14301691e+00,  -1.28296331e+00,   4.21733708e-01,\n",
       "          6.59038469e-01],\n",
       "       [  1.76501198e+00,  -3.62176246e-01,   1.44480739e+00,\n",
       "          7.90670654e-01],\n",
       "       [  1.03800476e+00,  -1.28296331e+00,   1.16062026e+00,\n",
       "          7.90670654e-01],\n",
       "       [  1.64384411e+00,   1.24920112e+00,   1.33113254e+00,\n",
       "          1.71209594e+00],\n",
       "       [  7.95669016e-01,   3.28414053e-01,   7.62758269e-01,\n",
       "          1.05393502e+00],\n",
       "       [  6.74501145e-01,  -8.22569778e-01,   8.76433123e-01,\n",
       "          9.22302838e-01],\n",
       "       [  1.15917263e+00,  -1.31979479e-01,   9.90107977e-01,\n",
       "          1.18556721e+00],\n",
       "       [ -1.73673948e-01,  -1.28296331e+00,   7.05920842e-01,\n",
       "          1.05393502e+00],\n",
       "       [ -5.25060772e-02,  -5.92373012e-01,   7.62758269e-01,\n",
       "          1.58046376e+00],\n",
       "       [  6.74501145e-01,   3.28414053e-01,   8.76433123e-01,\n",
       "          1.44883158e+00],\n",
       "       [  7.95669016e-01,  -1.31979479e-01,   9.90107977e-01,\n",
       "          7.90670654e-01],\n",
       "       [  2.24968346e+00,   1.70959465e+00,   1.67215710e+00,\n",
       "          1.31719939e+00],\n",
       "       [  2.24968346e+00,  -1.05276654e+00,   1.78583195e+00,\n",
       "          1.44883158e+00],\n",
       "       [  1.89829664e-01,  -1.97355361e+00,   7.05920842e-01,\n",
       "          3.95774101e-01],\n",
       "       [  1.28034050e+00,   3.28414053e-01,   1.10378283e+00,\n",
       "          1.44883158e+00],\n",
       "       [ -2.94841818e-01,  -5.92373012e-01,   6.49083415e-01,\n",
       "          1.05393502e+00],\n",
       "       [  2.24968346e+00,  -5.92373012e-01,   1.67215710e+00,\n",
       "          1.05393502e+00],\n",
       "       [  5.53333275e-01,  -8.22569778e-01,   6.49083415e-01,\n",
       "          7.90670654e-01],\n",
       "       [  1.03800476e+00,   5.58610819e-01,   1.10378283e+00,\n",
       "          1.18556721e+00],\n",
       "       [  1.64384411e+00,   3.28414053e-01,   1.27429511e+00,\n",
       "          7.90670654e-01],\n",
       "       [  4.32165405e-01,  -5.92373012e-01,   5.92245988e-01,\n",
       "          7.90670654e-01],\n",
       "       [  3.10997534e-01,  -1.31979479e-01,   6.49083415e-01,\n",
       "          7.90670654e-01],\n",
       "       [  6.74501145e-01,  -5.92373012e-01,   1.04694540e+00,\n",
       "          1.18556721e+00],\n",
       "       [  1.64384411e+00,  -1.31979479e-01,   1.16062026e+00,\n",
       "          5.27406285e-01],\n",
       "       [  1.88617985e+00,  -5.92373012e-01,   1.33113254e+00,\n",
       "          9.22302838e-01],\n",
       "       [  2.49201920e+00,   1.70959465e+00,   1.50164482e+00,\n",
       "          1.05393502e+00],\n",
       "       [  6.74501145e-01,  -5.92373012e-01,   1.04694540e+00,\n",
       "          1.31719939e+00],\n",
       "       [  5.53333275e-01,  -5.92373012e-01,   7.62758269e-01,\n",
       "          3.95774101e-01],\n",
       "       [  3.10997534e-01,  -1.05276654e+00,   1.04694540e+00,\n",
       "          2.64141916e-01],\n",
       "       [  2.24968346e+00,  -1.31979479e-01,   1.33113254e+00,\n",
       "          1.44883158e+00],\n",
       "       [  5.53333275e-01,   7.88807586e-01,   1.04694540e+00,\n",
       "          1.58046376e+00],\n",
       "       [  6.74501145e-01,   9.82172869e-02,   9.90107977e-01,\n",
       "          7.90670654e-01],\n",
       "       [  1.89829664e-01,  -1.31979479e-01,   5.92245988e-01,\n",
       "          7.90670654e-01],\n",
       "       [  1.28034050e+00,   9.82172869e-02,   9.33270550e-01,\n",
       "          1.18556721e+00],\n",
       "       [  1.03800476e+00,   9.82172869e-02,   1.04694540e+00,\n",
       "          1.58046376e+00],\n",
       "       [  1.28034050e+00,   9.82172869e-02,   7.62758269e-01,\n",
       "          1.44883158e+00],\n",
       "       [ -5.25060772e-02,  -8.22569778e-01,   7.62758269e-01,\n",
       "          9.22302838e-01],\n",
       "       [  1.15917263e+00,   3.28414053e-01,   1.21745768e+00,\n",
       "          1.44883158e+00],\n",
       "       [  1.03800476e+00,   5.58610819e-01,   1.10378283e+00,\n",
       "          1.71209594e+00],\n",
       "       [  1.03800476e+00,  -1.31979479e-01,   8.19595696e-01,\n",
       "          1.44883158e+00],\n",
       "       [  5.53333275e-01,  -1.28296331e+00,   7.05920842e-01,\n",
       "          9.22302838e-01],\n",
       "       [  7.95669016e-01,  -1.31979479e-01,   8.19595696e-01,\n",
       "          1.05393502e+00],\n",
       "       [  4.32165405e-01,   7.88807586e-01,   9.33270550e-01,\n",
       "          1.44883158e+00],\n",
       "       [  6.86617933e-02,  -1.31979479e-01,   7.62758269e-01,\n",
       "          7.90670654e-01]])"
      ]
     },
     "execution_count": 9,
     "metadata": {},
     "output_type": "execute_result"
    }
   ],
   "source": [
    "X"
   ]
  },
  {
   "cell_type": "code",
   "execution_count": 10,
   "metadata": {
    "collapsed": true
   },
   "outputs": [],
   "source": [
    "pca = PCA(n_components=4)"
   ]
  },
  {
   "cell_type": "code",
   "execution_count": 11,
   "metadata": {},
   "outputs": [
    {
     "data": {
      "text/plain": [
       "PCA(copy=True, iterated_power='auto', n_components=4, random_state=None,\n",
       "  svd_solver='auto', tol=0.0, whiten=False)"
      ]
     },
     "execution_count": 11,
     "metadata": {},
     "output_type": "execute_result"
    }
   ],
   "source": [
    "pca.fit(X)"
   ]
  },
  {
   "cell_type": "code",
   "execution_count": 12,
   "metadata": {
    "collapsed": true
   },
   "outputs": [],
   "source": [
    "#The amount of variance that each PC explains\n",
    "var= pca.explained_variance_ratio_"
   ]
  },
  {
   "cell_type": "code",
   "execution_count": 13,
   "metadata": {},
   "outputs": [
    {
     "data": {
      "text/plain": [
       "array([ 0.72962445,  0.22850762,  0.03668922,  0.00517871])"
      ]
     },
     "execution_count": 13,
     "metadata": {},
     "output_type": "execute_result"
    }
   ],
   "source": [
    "var"
   ]
  },
  {
   "cell_type": "code",
   "execution_count": 14,
   "metadata": {},
   "outputs": [
    {
     "data": {
      "text/plain": [
       "[<matplotlib.lines.Line2D at 0xc89bc88>]"
      ]
     },
     "execution_count": 14,
     "metadata": {},
     "output_type": "execute_result"
    },
    {
     "data": {
      "image/png": "[encoded data removed]",
      "text/plain": [
       "<matplotlib.figure.Figure at 0xc755358>"
      ]
     },
     "metadata": {},
     "output_type": "display_data"
    }
   ],
   "source": [
    "plt.plot(var)"
   ]
  },
  {
   "cell_type": "code",
   "execution_count": 15,
   "metadata": {
    "collapsed": true
   },
   "outputs": [],
   "source": [
    "#Cumulative Variance explains\n",
    "var1=np.cumsum(np.round(pca.explained_variance_ratio_, decimals=4)*100)"
   ]
  },
  {
   "cell_type": "code",
   "execution_count": 16,
   "metadata": {},
   "outputs": [
    {
     "data": {
      "text/plain": [
       "[<matplotlib.lines.Line2D at 0xa092080>]"
      ]
     },
     "execution_count": 16,
     "metadata": {},
     "output_type": "execute_result"
    },
    {
     "data": {
      "image/png": "[encoded data removed]",
      "text/plain": [
       "<matplotlib.figure.Figure at 0xca28080>"
      ]
     },
     "metadata": {},
     "output_type": "display_data"
    }
   ],
   "source": [
    "plt.plot(var1)"
   ]
  },
  {
   "cell_type": "code",
   "execution_count": null,
   "metadata": {
    "collapsed": true
   },
   "outputs": [],
   "source": []
  }
 ],
 "metadata": {
  "kernelspec": {
   "display_name": "Python 2",
   "language": "python",
   "name": "python2"
  },
  "language_info": {
   "codemirror_mode": {
    "name": "ipython",
    "version": 2
   },
   "file_extension": ".py",
   "mimetype": "text/x-python",
   "name": "python",
   "nbconvert_exporter": "python",
   "pygments_lexer": "ipython2",
   "version": "2.7.13"
  }
 },
 "nbformat": 4,
 "nbformat_minor": 2
}
